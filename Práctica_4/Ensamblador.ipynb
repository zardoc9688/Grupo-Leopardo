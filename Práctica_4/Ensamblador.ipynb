{
  "nbformat": 4,
  "nbformat_minor": 0,
  "metadata": {
    "colab": {
      "provenance": []
    },
    "kernelspec": {
      "name": "python3",
      "display_name": "Python 3"
    },
    "language_info": {
      "name": "python"
    }
  },
  "cells": [
    {
      "cell_type": "code",
      "execution_count": 4,
      "metadata": {
        "colab": {
          "base_uri": "https://localhost:8080/"
        },
        "id": "dzqH-GLbddFF",
        "outputId": "c4dd4c92-b1e1-4acf-cf52-3b64bb17dc30"
      },
      "outputs": [
        {
          "output_type": "stream",
          "name": "stdout",
          "text": [
            "Drive already mounted at /content/drive; to attempt to forcibly remount, call drive.mount(\"/content/drive\", force_remount=True).\n"
          ]
        }
      ],
      "source": [
        "#Montamos el Drive\n",
        "from google.colab import drive\n",
        "drive.mount('/content/drive')"
      ]
    },
    {
      "cell_type": "code",
      "source": [
        "#Leemos Los programas .asm -> Tener cuidado con las rutas\n",
        "def cargarProgramas():\n",
        "  import requests\n",
        "  with open(\"/content/drive/MyDrive/Arquitectura/Practica4/Add.asm\") as program:\n",
        "    add = program.read()\n",
        "  with open(\"/content/drive/MyDrive/Arquitectura/Practica4/Max.asm\") as program:\n",
        "    max = program.read()\n",
        "  with open(\"/content/drive/MyDrive/Arquitectura/Practica4/MaxL.asm\") as program:\n",
        "    maxL = program.read()\n",
        "  with open(\"/content/drive/MyDrive/Arquitectura/Practica4/Pong.asm\") as program:\n",
        "    pong = program.read()\n",
        "  with open(\"/content/drive/MyDrive/Arquitectura/Practica4/PongL.asm\") as program:\n",
        "    pongL = program.read()\n",
        "  with open(\"/content/drive/MyDrive/Arquitectura/Practica4/Rect.asm\") as program:\n",
        "    rect = program.read()\n",
        "  with open(\"/content/drive/MyDrive/Arquitectura/Practica4/RectL.asm\") as program:\n",
        "    rectL = program.read()\n",
        "  return add, max, maxL, pong, pongL, rect, rectL"
      ],
      "metadata": {
        "id": "KAkUqMloeQ0j"
      },
      "execution_count": 6,
      "outputs": []
    },
    {
      "cell_type": "code",
      "source": [
        "add, max, maxL, pong, pongL, rect, rectL = cargarProgramas()"
      ],
      "metadata": {
        "id": "8rq1lCdUaWYj"
      },
      "execution_count": 7,
      "outputs": []
    },
    {
      "cell_type": "code",
      "source": [
        "#Creamos la funcion para eliminar los comentarios del codigo en .asm:\n",
        "def del_com_espacios(program):\n",
        "    array_lines = program.split(\"\\n\")\n",
        "    cleaned_lines = []\n",
        "    for line in array_lines:\n",
        "        # Eliminar comentarios\n",
        "        line_without_comment = line.split(\"//\")[0].rstrip()\n",
        "        # Eliminar espacios en blanco al principio y al final de la línea\n",
        "        cleaned_line = line_without_comment.lstrip().rstrip()\n",
        "        if cleaned_line != \"\":\n",
        "            cleaned_lines.append(cleaned_line)\n",
        "    return \"\\n\".join(cleaned_lines)"
      ],
      "metadata": {
        "id": "vBFzkLC8b7KB"
      },
      "execution_count": 8,
      "outputs": []
    },
    {
      "cell_type": "markdown",
      "source": [
        "# Parseador"
      ],
      "metadata": {
        "id": "sELgVpZ9fX3l"
      }
    },
    {
      "cell_type": "code",
      "source": [
        "class parseo():\n",
        "  def __init__(self, linea): #Constructor\n",
        "    self.linea = linea\n",
        "    self.tipo = None\n",
        "    self.asignarTipo()\n",
        "\n",
        "  def asignarTipo(self):\n",
        "    if self.linea.startswith('@'):\n",
        "      self.tipo = 'A'\n",
        "    elif self.linea.startswith('('):\n",
        "      self.tipo = 'L'\n",
        "    else:\n",
        "      self.tipo = 'C'\n",
        "\n",
        "  def get_valor(self):\n",
        "    if(self.tipo != 'A'):\n",
        "            return None\n",
        "    return self.linea[1:].split(' ')[0]\n",
        "\n",
        "  def get_destino(self):\n",
        "    indice = self.linea.find('=')\n",
        "    if(self.tipo != 'C' or indice == -1):\n",
        "      return None\n",
        "    return self.linea[:indice]\n",
        "\n",
        "  def get_operacion(self):\n",
        "    indice_igual = self.linea.find(\"=\")\n",
        "    indice_punto_coma = self.linea.find(\";\")\n",
        "    if(self.tipo != 'C'):\n",
        "      return None\n",
        "    if(indice_igual != -1 and indice_punto_coma != -1):\n",
        "      return self.linea[indice_igual+1:indice_punto_coma]\n",
        "    elif(indice_igual == -1 and indice_punto_coma != -1 ):\n",
        "      return self.linea[:indice_punto_coma]\n",
        "    elif(indice_igual != -1 and indice_punto_coma == -1):\n",
        "      return self.linea[indice_igual+1:]\n",
        "    elif(indice_igual == -1 and indice_punto_coma == -1):\n",
        "      return self.linea\n",
        "\n",
        "  def get_salto(self):\n",
        "    indice_punto_coma = self.linea.find(\";\")\n",
        "    if(self.tipo != 'C' or indice_punto_coma == -1):\n",
        "        return None\n",
        "    return self.linea[indice_punto_coma+1:]\n",
        "\n",
        "  def get_etiqueta(self):\n",
        "    indice_1 = self.linea.find(\"(\")\n",
        "    indice_2 = self.linea.find(\")\")\n",
        "    if(self.tipo != \"L\"):\n",
        "      return None\n",
        "    if(indice_1 != -1 and indice_2 != -1):\n",
        "      return self.linea[indice_1+1:indice_2]\n",
        "    return None\n"
      ],
      "metadata": {
        "id": "3baPViQhgGT4"
      },
      "execution_count": 9,
      "outputs": []
    },
    {
      "cell_type": "markdown",
      "source": [
        "# Codificador"
      ],
      "metadata": {
        "id": "zWKaYH8cfb6c"
      }
    },
    {
      "cell_type": "code",
      "source": [
        "def codigo_destino(destino):\n",
        "  diccionario = {\n",
        "      None : \"000\",\n",
        "      \"M\"  : \"001\",\n",
        "      \"D\"  : \"010\",\n",
        "      \"MD\" : \"011\",\n",
        "      \"A\"  : \"100\",\n",
        "      \"AM\" : \"101\",\n",
        "      \"AD\" : \"110\",\n",
        "      \"ADM\": \"111\"\n",
        "      }\n",
        "  return diccionario[destino]\n",
        "\n",
        "def codigo_operacion(operacion):\n",
        "  diccionario = {\n",
        "      None : None,\n",
        "      \"0\"  :  \"0101010\",\n",
        "      \"1\"  :  \"0111111\",\n",
        "      \"-1\" :  \"0111010\",\n",
        "      \"D\"  :  \"0001100\",\n",
        "      \"A\"  :  \"0110000\",\n",
        "      \"M\"  :  \"1110000\",\n",
        "      \"!D\" :  \"0001101\",\n",
        "      \"!A\" :  \"0110001\",\n",
        "      \"!M\" :  \"1110001\",\n",
        "      \"-D\" :  \"0001111\",\n",
        "      \"-A\" :  \"0110011\",\n",
        "      \"-M\" :  \"1110011\",\n",
        "      \"D+1\":  \"0011111\",\n",
        "      \"A+1\":  \"0110111\",\n",
        "      \"M+1\":  \"1110111\",\n",
        "      \"D-1\":  \"0001110\",\n",
        "      \"A-1\":  \"0110010\",\n",
        "      \"M-1\":  \"1110010\",\n",
        "      \"D+A\":  \"0000010\",\n",
        "      \"D+M\":  \"1000010\",\n",
        "      \"D-A\":  \"0010011\",\n",
        "      \"D-M\":  \"1010011\",\n",
        "      \"A-D\":  \"0000111\",\n",
        "      \"M-D\":  \"1000111\",\n",
        "      \"D&A\":  \"0000000\",\n",
        "      \"D&M\":  \"1000000\",\n",
        "      \"D|A\":  \"0010101\",\n",
        "      \"D|M\":  \"1010101\"\n",
        "    }\n",
        "  return diccionario[operacion]\n",
        "\n",
        "def codigo_salto(salto):\n",
        "  diccionario = {\n",
        "      None  : \"000\",\n",
        "      \"JGT\" : \"001\",\n",
        "      \"JEQ\" : \"010\",\n",
        "      \"JGE\" : \"011\",\n",
        "      \"JLT\" : \"100\",\n",
        "      \"JNE\" : \"101\",\n",
        "      \"JLE\" : \"110\",\n",
        "      \"JMP\" : \"111\"\n",
        "  }\n",
        "  return diccionario[salto]\n",
        "\n",
        "def codigo_valor(valor, diccionario):\n",
        "    binario = \"\"\n",
        "    valor = valor\n",
        "    if valor.isdigit():\n",
        "        binario =  bin(int(valor))[2:]\n",
        "    elif valor in diccionario:\n",
        "        binario =  bin(diccionario[valor])[2:]\n",
        "    while(len(binario) != 15):\n",
        "        binario = \"0\"+ binario\n",
        "    return binario\n",
        "\n",
        "def agregar_al_diccionario(diccionario, lineas):\n",
        "  contador = 0;\n",
        "  for linea in lineas:\n",
        "    if(linea.tipo != 'L'):\n",
        "      contador = contador +1\n",
        "    else:\n",
        "      etiqueta = linea.get_etiqueta()\n",
        "      diccionario[etiqueta] = contador\n",
        "  return diccionario\n",
        "\n",
        "def agregar_segundo(diccionario, lineas):\n",
        "  contador = 16\n",
        "  for linea in lineas:\n",
        "    if linea.tipo == 'A' and not (linea.get_valor() in diccionario):\n",
        "      if not linea.get_valor().isdigit():\n",
        "        diccionario[linea.get_valor()] = contador\n",
        "        contador = contador + 1\n",
        "  return diccionario\n"
      ],
      "metadata": {
        "id": "vFqlwLFLieMh"
      },
      "execution_count": 10,
      "outputs": []
    },
    {
      "cell_type": "markdown",
      "source": [
        "# Main"
      ],
      "metadata": {
        "id": "s16aPhdafhPM"
      }
    },
    {
      "cell_type": "code",
      "source": [
        "def main(diccionario, programa, nombre, ruta):\n",
        "  lineas = []\n",
        "  programa = del_com_espacios(programa) #Limpiamos los comentarios y espacios en blanco\n",
        "  for linea in programa.split(\"\\n\"):\n",
        "    linea = parseo(linea)\n",
        "    if(linea.tipo == None):\n",
        "      continue\n",
        "    lineas.append(linea)\n",
        "\n",
        "  diccionario = agregar_al_diccionario(diccionario, lineas)\n",
        "  diccionario = agregar_segundo(diccionario, lineas)\n",
        "\n",
        "  with open(f\"{ruta}/{nombre}.hack\", \"w\") as archivo_hack:\n",
        "    for i in lineas:\n",
        "      instruccion = \"\"\n",
        "      if(i.tipo == 'C'):\n",
        "        instruccion = \"111\" + codigo_operacion(i.get_operacion()) + codigo_destino(i.get_destino()) + codigo_salto(i.get_salto())\n",
        "        archivo_hack.write(instruccion + '\\n')\n",
        "      elif(i.tipo == 'A'):\n",
        "        instruccion= codigo_valor(i.get_valor(), diccionario)\n",
        "        instruccion = \"0\" +  instruccion\n",
        "        archivo_hack.write(instruccion + '\\n')"
      ],
      "metadata": {
        "id": "hw3_GGH7VJk6"
      },
      "execution_count": 11,
      "outputs": []
    },
    {
      "cell_type": "markdown",
      "source": [
        "# Ensamblador"
      ],
      "metadata": {
        "id": "pp41_-ngflXk"
      }
    },
    {
      "cell_type": "code",
      "source": [
        "def ensamblador():\n",
        "  #Si no lo han hecho, aqui podrían cargar sus programas\n",
        "  add, max, maxL, pong, pongL, rect, rectL = cargarProgramas()\n",
        "\n",
        "  diccionario = {\n",
        "    \"SCREEN\" : 16384,\n",
        "    \"KBD\" : 24576,\n",
        "    \"SP\" : 0,\n",
        "    \"LCL\" : 1,\n",
        "    \"ARG\" : 2,\n",
        "    \"THIS\" : 3,\n",
        "    \"THAT\": 4\n",
        "    }\n",
        "\n",
        "  for i in range(16):\n",
        "    llave = \"R\" + str(i)\n",
        "    diccionario[llave] = i\n",
        "\n",
        "#Traducimos cada uno de los programas por medio de la main:\n",
        "  main(diccionario, add, 'Add', '/content/drive/MyDrive/Arquitectura/Practica4')\n",
        "  main(diccionario, max, 'Max', '/content/drive/MyDrive/Arquitectura/Practica4')\n",
        "  main(diccionario, maxL, 'MaxL', '/content/drive/MyDrive/Arquitectura/Practica4')\n",
        "  main(diccionario, pong, 'Pong', '/content/drive/MyDrive/Arquitectura/Practica4')\n",
        "  main(diccionario, pongL, 'PongL', '/content/drive/MyDrive/Arquitectura/Practica4')\n",
        "  main(diccionario, rect, 'rect', '/content/drive/MyDrive/Arquitectura/Practica4')\n",
        "  main(diccionario, rectL, 'rectL', '/content/drive/MyDrive/Arquitectura/Practica4')"
      ],
      "metadata": {
        "id": "SQhpegAHXg2k"
      },
      "execution_count": 13,
      "outputs": []
    },
    {
      "cell_type": "markdown",
      "source": [
        "# Traducir y almacenar los programas en el Drive por medio del Ensamblador"
      ],
      "metadata": {
        "id": "beGEZte8fy70"
      }
    },
    {
      "cell_type": "code",
      "source": [
        "ensamblador()"
      ],
      "metadata": {
        "id": "NE_-6IpMazw5"
      },
      "execution_count": 14,
      "outputs": []
    }
  ]
}